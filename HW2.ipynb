{
 "cells": [
  {
   "cell_type": "code",
   "execution_count": 5,
   "metadata": {},
   "outputs": [],
   "source": [
    "import os\n",
    "import math\n",
    "import numpy as np\n",
    "import gensim\n",
    "from gensim.test.utils import common_texts, get_tmpfile\n",
    "from gensim.models import Word2Vec\n",
    "import os\n",
    "import re\n",
    "import string\n",
    "import nltk\n",
    "from nltk.tokenize import sent_tokenize, word_tokenize"
   ]
  },
  {
   "cell_type": "code",
   "execution_count": 17,
   "metadata": {},
   "outputs": [],
   "source": [
    "def normalize(file_str):\n",
    "    # 1) remove numbers and spacial characters\n",
    "    file_str = re.sub(r'([^a-zA-Z\\s]+?)', '', file_str).replace(\"\\n\",' ')\n",
    "    # 2) Lower case\n",
    "    file_str = file_str.lower()\n",
    "    return file_str"
   ]
  },
  {
   "cell_type": "code",
   "execution_count": 18,
   "metadata": {},
   "outputs": [],
   "source": [
    "# Reads all the files of a corpus into a string variable. The corpus path and list of folders to be scanned can be specified\n",
    "def read_corpus(path, folder_list):\n",
    "    corpus_lst = []\n",
    "    corpus_str = \"\"\n",
    "    for folder in os.listdir(corpus_path):\n",
    "        if folder in folder_list:\n",
    "            for file in os.listdir(os.path.join(corpus_path,folder)):\n",
    "                with open (os.path.join(corpus_path,folder,file), \"r\") as myfile:\n",
    "                    file_data = \"\".join(myfile.readlines())\n",
    "                    normalized_file_data = normalize(file_data)\n",
    "                    corpus_lst.append(normalized_file_data)\n",
    "    return corpus_lst"
   ]
  },
  {
   "cell_type": "code",
   "execution_count": 19,
   "metadata": {},
   "outputs": [],
   "source": [
    "corpus_path = os.path.join(os.getcwd(),\"HW2\",\"20_newsgroups\")\n",
    "folder_list = ['alt.atheism']\n",
    "corpus_lst = read_corpus(corpus_path, folder_list)"
   ]
  },
  {
   "cell_type": "code",
   "execution_count": 22,
   "metadata": {},
   "outputs": [],
   "source": [
    "# Output corpus into text file\n",
    "filename = 'HW2//corpus_output.txt'\n",
    "\n",
    "with open(filename, mode=\"w\") as outfile: \n",
    "    for s in corpus_lst:\n",
    "        outfile.write(\"%s\\n\" % s)"
   ]
  },
  {
   "cell_type": "code",
   "execution_count": 6,
   "metadata": {},
   "outputs": [],
   "source": [
    "path = get_tmpfile(\"word2vec.model\")"
   ]
  },
  {
   "cell_type": "code",
   "execution_count": 26,
   "metadata": {},
   "outputs": [],
   "source": [
    "# Get corpus as a list of lists\n",
    "corpus = []\n",
    "for sentence in corpus_lst:\n",
    "    # word tokenization\n",
    "    corpus.append(word_tokenize(sentence))"
   ]
  },
  {
   "cell_type": "code",
   "execution_count": 27,
   "metadata": {},
   "outputs": [],
   "source": [
    "# train word2vec model\n",
    "model = Word2Vec(corpus, size=100, window=5, min_count=5, workers=4, sg=1)\n",
    "model.save(\"word2vec.model\")"
   ]
  },
  {
   "cell_type": "code",
   "execution_count": 29,
   "metadata": {},
   "outputs": [
    {
     "data": {
      "text/plain": [
       "array([ 1.48345763e-02, -7.56442472e-02,  3.07667077e-01, -1.56090453e-01,\n",
       "        1.51485845e-01, -1.86642200e-01, -1.85613084e-04,  7.50138331e-03,\n",
       "        4.16409075e-01, -1.51707912e-02, -9.81734842e-02,  1.20306149e-01,\n",
       "       -6.83321282e-02,  1.21813260e-01,  1.38223931e-01, -1.14426345e-01,\n",
       "        8.08655692e-04, -2.87239961e-02, -5.02260216e-02,  2.06014365e-01,\n",
       "        7.63981417e-02,  1.92871336e-02,  1.86544925e-01, -2.85521030e-01,\n",
       "       -2.59806383e-02, -1.16892666e-01,  1.19654514e-01, -4.14459109e-02,\n",
       "       -5.70675619e-02, -1.89218894e-01,  1.86056480e-01, -1.37155708e-02,\n",
       "       -7.68367127e-02,  9.55482125e-02,  1.06406204e-01,  1.50114387e-01,\n",
       "        8.17096233e-02, -1.05754510e-01, -1.15877509e-01,  2.43294854e-02,\n",
       "       -5.14528975e-02,  2.74628818e-01,  2.03077197e-01, -3.30013260e-02,\n",
       "        8.13637152e-02, -1.59350410e-01, -7.87228569e-02,  1.17078580e-01,\n",
       "       -2.80741185e-01,  1.44151747e-01, -2.56304443e-02,  1.07414722e-01,\n",
       "       -1.07750082e-02,  3.08043528e-02, -2.13352397e-01, -9.90425944e-02,\n",
       "       -4.70214225e-02, -9.16966796e-03,  7.08732083e-02, -1.82823017e-01,\n",
       "        2.39918813e-01,  4.26786602e-01, -9.20897573e-02,  3.59612554e-02,\n",
       "       -1.17091738e-01, -3.81731205e-02,  1.13123082e-01,  1.81138352e-01,\n",
       "       -6.02799701e-03, -1.15951635e-01, -5.97026534e-02, -1.24057584e-01,\n",
       "        2.08505198e-01,  1.79281756e-01,  1.30280986e-01, -7.79895037e-02,\n",
       "        6.38412163e-02, -1.74560398e-01, -1.42973095e-01,  1.72668144e-01,\n",
       "        9.10051018e-02,  1.06940240e-01,  1.52180731e-01,  2.48487338e-01,\n",
       "        1.78567860e-02, -3.30748796e-01, -1.67706728e-01,  6.03151619e-02,\n",
       "       -2.59704906e-02,  1.60634920e-01,  2.20476631e-02, -2.89848857e-02,\n",
       "        3.12466118e-02,  3.96865904e-02, -7.64412656e-02, -1.23843238e-01,\n",
       "       -1.04157642e-01, -7.82209355e-03,  5.34226783e-02, -1.70246232e-02],\n",
       "      dtype=float32)"
      ]
     },
     "execution_count": 29,
     "metadata": {},
     "output_type": "execute_result"
    }
   ],
   "source": [
    "emb_vec = model.wv['student']\n",
    "emb_vec"
   ]
  },
  {
   "cell_type": "code",
   "execution_count": 34,
   "metadata": {},
   "outputs": [
    {
     "name": "stdout",
     "output_type": "stream",
     "text": [
      "[('give', 0.8342376947402954), ('straighten', 0.8339373469352722), ('attempt', 0.824309229850769), ('continue', 0.8242608308792114), ('put', 0.819233775138855)]\n"
     ]
    }
   ],
   "source": [
    "# Similar words\n",
    "print(model.wv.most_similar('take')[:5])"
   ]
  },
  {
   "cell_type": "code",
   "execution_count": 41,
   "metadata": {},
   "outputs": [
    {
     "name": "stdout",
     "output_type": "stream",
     "text": [
      "[('send', 0.9342182278633118), ('mail', 0.8977521061897278), ('complaints', 0.8578709363937378), ('please', 0.8435264825820923), ('consisting', 0.8429056406021118)]\n"
     ]
    }
   ],
   "source": [
    "print(model.wv.most_similar('email')[:5])"
   ]
  },
  {
   "cell_type": "markdown",
   "metadata": {},
   "source": [
    "## hw2) \n",
    "### Q1)"
   ]
  },
  {
   "cell_type": "markdown",
   "metadata": {},
   "source": [
    "#### Skip Gram - 'faith'"
   ]
  },
  {
   "cell_type": "code",
   "execution_count": 49,
   "metadata": {
    "scrolled": false
   },
   "outputs": [
    {
     "name": "stdout",
     "output_type": "stream",
     "text": [
      "size= 50 , window= 5 : [('dogma', 0.886344850063324), ('atheism', 0.8285374045372009), ('strong', 0.804130494594574), ('weak', 0.8038588762283325), ('belief', 0.7770904898643494)]\n",
      "**********************************************************************\n",
      "size= 50 , window= 20 : [('dogma', 0.8696205019950867), ('dangerous', 0.7451220750808716), ('religion', 0.7171891927719116), ('leap', 0.7090973258018494), ('flying', 0.6973340511322021)]\n",
      "**********************************************************************\n",
      "size= 50 , window= 50 : [('dogma', 0.8624674081802368), ('flying', 0.765070378780365), ('irrationality', 0.7509381175041199), ('apredtneatcstorontoedu', 0.7399941682815552), ('tgkcstorontoedu', 0.7345501184463501)]\n",
      "**********************************************************************\n",
      "size= 50 , window= 75 : [('dogma', 0.8395116329193115), ('todd', 0.7802084684371948), ('tgkcstorontoedu', 0.7708868980407715), ('irrationality', 0.766791820526123), ('kelley', 0.7593604922294617)]\n",
      "**********************************************************************\n",
      "size= 100 , window= 5 : [('dogma', 0.8834189176559448), ('atheism', 0.8305253982543945), ('strong', 0.802137017250061), ('weak', 0.7813735008239746), ('religion', 0.7781199216842651)]\n",
      "**********************************************************************\n",
      "size= 100 , window= 20 : [('dogma', 0.8577029705047607), ('dangerous', 0.72044837474823), ('blind', 0.6861516237258911), ('religion', 0.6710610389709473), ('inevitable', 0.6626625657081604)]\n",
      "**********************************************************************\n",
      "size= 100 , window= 50 : [('dogma', 0.8013173341751099), ('dangerous', 0.697761058807373), ('apredtneatcstorontoedu', 0.6639423370361328), ('kelley', 0.6574972867965698), ('tgkcstorontoedu', 0.6559656858444214)]\n",
      "**********************************************************************\n",
      "size= 100 , window= 75 : [('dogma', 0.7626785039901733), ('kelley', 0.697254478931427), ('tgkcstorontoedu', 0.6927436590194702), ('todd', 0.6919017434120178), ('apredtneatcstorontoedu', 0.6867693066596985)]\n",
      "**********************************************************************\n",
      "size= 150 , window= 5 : [('dogma', 0.8816397190093994), ('atheism', 0.8050510287284851), ('strong', 0.8016620874404907), ('weak', 0.801389217376709), ('blind', 0.7870044112205505)]\n",
      "**********************************************************************\n",
      "size= 150 , window= 20 : [('dogma', 0.8697731494903564), ('dangerous', 0.7426038384437561), ('blind', 0.6971760392189026), ('leap', 0.6730223298072815), ('flying', 0.6683327555656433)]\n",
      "**********************************************************************\n",
      "size= 150 , window= 50 : [('dogma', 0.7764468789100647), ('apredtneatcstorontoedu', 0.6584547162055969), ('kelley', 0.6544748544692993), ('tgkcstorontoedu', 0.6516593098640442), ('todd', 0.6434190273284912)]\n",
      "**********************************************************************\n",
      "size= 150 , window= 75 : [('dogma', 0.7426732778549194), ('todd', 0.6306852698326111), ('tgkcstorontoedu', 0.6301632523536682), ('kelley', 0.6259389519691467), ('apredtneatcstorontoedu', 0.6200883984565735)]\n",
      "**********************************************************************\n",
      "size= 200 , window= 5 : [('dogma', 0.8667265772819519), ('strong', 0.8412684202194214), ('weak', 0.8379064798355103), ('atheism', 0.8346691131591797), ('positive', 0.7794103622436523)]\n",
      "**********************************************************************\n",
      "size= 200 , window= 20 : [('dogma', 0.8627667427062988), ('dangerous', 0.7186005711555481), ('encourages', 0.6759837865829468), ('inevitable', 0.6621228456497192), ('blind', 0.6540680527687073)]\n",
      "**********************************************************************\n",
      "size= 200 , window= 50 : [('dogma', 0.797681450843811), ('dangerous', 0.6656712293624878), ('kelley', 0.6620194911956787), ('tgkcstorontoedu', 0.6593965291976929), ('todd', 0.6534144878387451)]\n",
      "**********************************************************************\n",
      "size= 200 , window= 75 : [('dogma', 0.7231929302215576), ('todd', 0.6152173280715942), ('tgkcstorontoedu', 0.6115503311157227), ('kelley', 0.6031113862991333), ('dangerous', 0.5964549779891968)]\n",
      "**********************************************************************\n"
     ]
    }
   ],
   "source": [
    "window_sizes = [5,20,50,75]\n",
    "sizes = [50,100,150,200]\n",
    "for size in sizes:  \n",
    "    for window in window_sizes:\n",
    "        model = Word2Vec(corpus, size=size, window=window, min_count=5, workers=4, sg=1)\n",
    "        print('size=',size,', window=',window,':', model.wv.most_similar('faith')[:5])\n",
    "        print(\"**********************************************************************\")"
   ]
  },
  {
   "cell_type": "markdown",
   "metadata": {},
   "source": [
    "We see that the results are more consistent across different configurations, the closest word is always dogma. This makes sense and seems correct.\n",
    "\n",
    "At larger window sizes, irrelevant words are included in the context and hence are considered similar to the work of interest, eg. window = 50, word 'apredtneatcstorontoedu' is considered similar to 'faith'. However is purely an artefact of our corpus.\n",
    "\n",
    "The larger the embedding size, the more complex the model and the longer the time to generate the embeddings, however assuming we have a sufficiently large corpus, larger embedding size can mean better overall performance of the final model.\n"
   ]
  },
  {
   "cell_type": "markdown",
   "metadata": {},
   "source": [
    "#### Cbow  - 'faith'"
   ]
  },
  {
   "cell_type": "code",
   "execution_count": 50,
   "metadata": {
    "scrolled": false
   },
   "outputs": [
    {
     "name": "stdout",
     "output_type": "stream",
     "text": [
      "size= 50 , window= 5 : [('reason', 0.9777678847312927), ('possible', 0.9760324358940125), ('nature', 0.9744144678115845), ('subjective', 0.9729087948799133), ('religion', 0.9710952043533325)]\n",
      "**********************************************************************\n",
      "size= 50 , window= 20 : [('statement', 0.9907295107841492), ('logically', 0.9872539639472961), ('reason', 0.9713360667228699), ('gods', 0.9711054563522339), ('exists', 0.970790445804596)]\n",
      "**********************************************************************\n",
      "size= 50 , window= 50 : [('proof', 0.9398975372314453), ('existence', 0.9395597577095032), ('gods', 0.9389523267745972), ('proves', 0.9328867197036743), ('agnosticism', 0.9265393018722534)]\n",
      "**********************************************************************\n",
      "size= 50 , window= 75 : [('proof', 0.9480326771736145), ('existence', 0.9271202683448792), ('dogma', 0.9200506210327148), ('strong', 0.9175812005996704), ('atheism', 0.9134929776191711)]\n",
      "**********************************************************************\n",
      "size= 100 , window= 5 : [('example', 0.9827929735183716), ('possible', 0.978155791759491), ('questioned', 0.9761337041854858), ('religion', 0.9758737087249756), ('subjective', 0.9732522964477539)]\n",
      "**********************************************************************\n",
      "size= 100 , window= 20 : [('illusion', 0.9852401614189148), ('reason', 0.9848593473434448), ('sense', 0.9799154996871948), ('possible', 0.9774810075759888), ('logically', 0.9763693809509277)]\n",
      "**********************************************************************\n",
      "size= 100 , window= 50 : [('proof', 0.9668295979499817), ('gods', 0.9546151161193848), ('existence', 0.9451382160186768), ('does', 0.9431276321411133), ('statement', 0.9397072196006775)]\n",
      "**********************************************************************\n",
      "size= 100 , window= 75 : [('agnosticism', 0.9500913023948669), ('strong', 0.9431384205818176), ('proof', 0.9096605777740479), ('weak', 0.9089310169219971), ('god', 0.8997918367385864)]\n",
      "**********************************************************************\n",
      "size= 150 , window= 5 : [('phrases', 0.9712293148040771), ('example', 0.9707432389259338), ('based', 0.970026969909668), ('subjective', 0.9698294401168823), ('results', 0.9686132073402405)]\n",
      "**********************************************************************\n",
      "size= 150 , window= 20 : [('statement', 0.9930046200752258), ('logically', 0.9877088069915771), ('reason', 0.9873709082603455), ('sense', 0.9832592010498047), ('gods', 0.9822816252708435)]\n",
      "**********************************************************************\n",
      "size= 150 , window= 50 : [('statement', 0.9709806442260742), ('proof', 0.9707075357437134), ('existence', 0.9647982120513916), ('evidence', 0.9625344276428223), ('no', 0.9513038992881775)]\n",
      "**********************************************************************\n",
      "size= 150 , window= 75 : [('proof', 0.9489253163337708), ('agnosticism', 0.9443881511688232), ('strong', 0.933876633644104), ('dogma', 0.9200282692909241), ('statement', 0.9107576012611389)]\n",
      "**********************************************************************\n",
      "size= 200 , window= 5 : [('possible', 0.9838197827339172), ('such', 0.9782930016517639), ('example', 0.973708987236023), ('values', 0.9721205234527588), ('truth', 0.9703085422515869)]\n",
      "**********************************************************************\n",
      "size= 200 , window= 20 : [('statement', 0.9946531653404236), ('sense', 0.9908672571182251), ('reason', 0.9875731468200684), ('disbelief', 0.981410801410675), ('correct', 0.9775333404541016)]\n",
      "**********************************************************************\n",
      "size= 200 , window= 50 : [('existence', 0.978357195854187), ('does', 0.9627102613449097), ('gods', 0.9467475414276123), ('proof', 0.9459686279296875), ('exist', 0.9427796602249146)]\n",
      "**********************************************************************\n",
      "size= 200 , window= 75 : [('strong', 0.9300408363342285), ('dogma', 0.9197199940681458), ('flying', 0.9150181412696838), ('existance', 0.9130226373672485), ('proof', 0.9116730690002441)]\n",
      "**********************************************************************\n"
     ]
    }
   ],
   "source": [
    "window_sizes = [5,20,50,75]\n",
    "sizes = [50,100,150,200]\n",
    "for size in sizes:  \n",
    "    for window in window_sizes:\n",
    "        model = Word2Vec(corpus, size=size, window=window, min_count=5, workers=4, sg=0)\n",
    "        print('size=',size,', window=',window,':', model.wv.most_similar('faith')[:5])\n",
    "        print(\"**********************************************************************\")"
   ]
  },
  {
   "cell_type": "markdown",
   "metadata": {},
   "source": [
    "### Skip gram- 'church'"
   ]
  },
  {
   "cell_type": "code",
   "execution_count": 52,
   "metadata": {
    "scrolled": false
   },
   "outputs": [
    {
     "name": "stdout",
     "output_type": "stream",
     "text": [
      "size= 50 , window= 5 : [('fathers', 0.8552189469337463), ('constitution', 0.8520639538764954), ('moon', 0.8507142663002014), ('priest', 0.8500820398330688), ('nations', 0.8499590754508972)]\n",
      "**********************************************************************\n",
      "size= 50 , window= 20 : [('campaign', 0.7513174414634705), ('foundation', 0.7351351976394653), ('rs', 0.7272127270698547), ('baptist', 0.7142115831375122), ('president', 0.7027206420898438)]\n",
      "**********************************************************************\n",
      "size= 50 , window= 50 : [('smith', 0.6751267313957214), ('judaism', 0.663597822189331), ('christ', 0.6380735635757446), ('saint', 0.6342097520828247), ('churchs', 0.6340110301971436)]\n",
      "**********************************************************************\n",
      "size= 50 , window= 75 : [('smith', 0.7112983465194702), ('major', 0.7006593942642212), ('churchs', 0.6824931502342224), ('churches', 0.6723576784133911), ('jr', 0.6599758863449097)]\n",
      "**********************************************************************\n",
      "size= 100 , window= 5 : [('youth', 0.8750905990600586), ('nations', 0.8740763664245605), ('moon', 0.870579183101654), ('congress', 0.8705536127090454), ('soviet', 0.8663705587387085)]\n",
      "**********************************************************************\n",
      "size= 100 , window= 20 : [('finish', 0.6735989451408386), ('northern', 0.6555764675140381), ('catholic', 0.6541805863380432), ('campaign', 0.6428962349891663), ('nowhere', 0.6321837306022644)]\n",
      "**********************************************************************\n",
      "size= 100 , window= 50 : [('churches', 0.6219937801361084), ('members', 0.6025474667549133), ('churchs', 0.6008936166763306), ('smith', 0.5982505083084106), ('saint', 0.5781165361404419)]\n",
      "**********************************************************************\n",
      "size= 100 , window= 75 : [('churchs', 0.6281207799911499), ('smith', 0.6128318309783936), ('gm', 0.5603663921356201), ('churches', 0.556047260761261), ('mormons', 0.5320672988891602)]\n",
      "**********************************************************************\n",
      "size= 150 , window= 5 : [('north', 0.877932071685791), ('early', 0.8764760494232178), ('moon', 0.8755878806114197), ('played', 0.8755822777748108), ('iroquois', 0.8733049631118774)]\n",
      "**********************************************************************\n",
      "size= 150 , window= 20 : [('northern', 0.679249107837677), ('finish', 0.6665089726448059), ('catholic', 0.6623223423957825), ('nowhere', 0.6409800052642822), ('churchs', 0.6219887733459473)]\n",
      "**********************************************************************\n",
      "size= 150 , window= 50 : [('members', 0.6058200001716614), ('churches', 0.5879740118980408), ('churchs', 0.563507080078125), ('northern', 0.5598618984222412), ('separation', 0.5497150421142578)]\n",
      "**********************************************************************\n",
      "size= 150 , window= 75 : [('smith', 0.5703297257423401), ('members', 0.5428416728973389), ('churchs', 0.5421810746192932), ('churches', 0.5299885272979736), ('jr', 0.5294932723045349)]\n",
      "**********************************************************************\n",
      "size= 200 , window= 5 : [('early', 0.88062983751297), ('soviet', 0.8656150102615356), ('third', 0.8638551235198975), ('rachel', 0.8637678027153015), ('blanketbombing', 0.8626999855041504)]\n",
      "**********************************************************************\n",
      "size= 200 , window= 20 : [('catholic', 0.692190408706665), ('subgenius', 0.6666630506515503), ('baptist', 0.6558904647827148), ('churches', 0.6546786427497864), ('finish', 0.6464533805847168)]\n",
      "**********************************************************************\n",
      "size= 200 , window= 50 : [('members', 0.5788791179656982), ('churchs', 0.5757910013198853), ('churches', 0.5504827499389648), ('smith', 0.5444948673248291), ('catholic', 0.5359605550765991)]\n",
      "**********************************************************************\n",
      "size= 200 , window= 75 : [('churchs', 0.5846109986305237), ('smith', 0.578155517578125), ('jr', 0.5424255132675171), ('members', 0.5381219387054443), ('devil', 0.5248584747314453)]\n",
      "**********************************************************************\n"
     ]
    }
   ],
   "source": [
    "window_sizes = [5,20,50,75]\n",
    "sizes = [50,100,150,200]\n",
    "for size in sizes:  \n",
    "    for window in window_sizes:\n",
    "        model = Word2Vec(corpus, size=size, window=window, min_count=5, workers=4, sg=1)\n",
    "        print('size=',size,', window=',window,':', model.wv.most_similar('church')[:5])\n",
    "        print(\"**********************************************************************\")"
   ]
  },
  {
   "cell_type": "markdown",
   "metadata": {},
   "source": [
    "### CBOW- 'church'"
   ]
  },
  {
   "cell_type": "code",
   "execution_count": null,
   "metadata": {},
   "outputs": [],
   "source": [
    "window_sizes = [5,20,50,75]\n",
    "sizes = [50,100,150,200]\n",
    "for size in sizes:  \n",
    "    for window in window_sizes:\n",
    "        model = Word2Vec(corpus, size=size, window=window, min_count=5, workers=4, sg=0)\n",
    "        print('size=',size,', window=',window,':', model.wv.most_similar('church')[:5])\n",
    "        print(\"**********************************************************************\")"
   ]
  },
  {
   "cell_type": "markdown",
   "metadata": {},
   "source": [
    "Cbow does a better job in that no irrelevent words appear even on larger window sizes, CBOW also performs significantly faster than skip gram. \n",
    "\n",
    "however overall we see that skip gram gives us more consistent results across various parameter sizes. This is because skip-grams gives more weightage to words that are closer to the word of interest."
   ]
  }
 ],
 "metadata": {
  "kernelspec": {
   "display_name": "Text Analytics",
   "language": "python",
   "name": "tf-gpu"
  },
  "language_info": {
   "codemirror_mode": {
    "name": "ipython",
    "version": 3
   },
   "file_extension": ".py",
   "mimetype": "text/x-python",
   "name": "python",
   "nbconvert_exporter": "python",
   "pygments_lexer": "ipython3",
   "version": "3.7.3"
  }
 },
 "nbformat": 4,
 "nbformat_minor": 2
}
